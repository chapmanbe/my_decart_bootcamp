{
 "cells": [
  {
   "cell_type": "markdown",
   "metadata": {},
   "source": [
    "<html>\n",
    "<table width=\"100%\" cellspacing=\"2\" cellpadding=\"2\" border=\"1\">\n",
    "<tbody>\n",
    "<tr>\n",
    "<td valign=\"center\" align=\"center\" width=\"25%\"><img src=\"../../media/decartes.jpg\"\n",
    "alt=\"DeCART Icon\" width=\"128\" height=\"171\"><br>\n",
    "</td>\n",
    "<td valign=\"center\" align=\"center\" width=\"75%\">\n",
    "<h1 align=\"center\"><font size=\"+3\">DeCART Summer School<br>\n",
    "for<br>\n",
    "Biomedical Data Science</font></h1></td>\n",
    "<td valign=\"center\" align=\"center\" width=\"25%\"><img\n",
    "src=\"../../media/U_Health_stacked_png_red.png\" alt=\"Utah Health\n",
    "Logo\" width=\"128\" height=\"134\"><br>\n",
    "</td>\n",
    "</tr>\n",
    "</tbody>\n",
    "</table>\n",
    "<br>\n",
    "</html>\n",
    "\n",
    "\n",
    "# Introduction to Python for Biomedical Data Science\n",
    "#### &copy; Brian E. Chapman, Ph.D.\n",
    "\n",
    "In this module we will introduce you to the basic computational tools in Python that will form the foundation for our data science training.\n",
    "\n",
    "### Pre-class survey\n",
    "\n",
    "Please complete the pre-class survey [here](https://goo.gl/forms/PGBM5SqKR7dKmEcF3)\n",
    "\n",
    "### To get the latest version of this lesson, execute the cell below"
   ]
  },
  {
   "cell_type": "code",
   "execution_count": 2,
   "metadata": {},
   "outputs": [
    {
     "name": "stdout",
     "output_type": "stream",
     "text": [
      "Updating e77c2dd..3326a54\n",
      "Fast-forward\n",
      " modules/module2/PythonBasicNumericTypes.ipynb      | 612 +++++++++++++++++++++\n",
      " modules/module2/ROADMAP.ipynb                      | 123 +++++\n",
      " .../module2/numeric_data_characterization.ipynb    | 487 ++++++++++++++++\n",
      " modules/module2/original_bp_data.ipynb             | 118 ++++\n",
      " modules/module2/quizzes/__init__.py                |   0\n",
      " .../module2/quizzes/characterizing_numeric_data.py |  43 ++\n",
      " .../module2/quizzes/visualizing_numeric_data.py    |  10 +\n",
      " modules/module2/visualizing_numeric_data.ipynb     | 421 ++++++++++++++\n",
      " 8 files changed, 1814 insertions(+)\n",
      " create mode 100644 modules/module2/PythonBasicNumericTypes.ipynb\n",
      " create mode 100644 modules/module2/ROADMAP.ipynb\n",
      " create mode 100644 modules/module2/numeric_data_characterization.ipynb\n",
      " create mode 100644 modules/module2/original_bp_data.ipynb\n",
      " create mode 100644 modules/module2/quizzes/__init__.py\n",
      " create mode 100644 modules/module2/quizzes/characterizing_numeric_data.py\n",
      " create mode 100644 modules/module2/quizzes/visualizing_numeric_data.py\n",
      " create mode 100644 modules/module2/visualizing_numeric_data.ipynb\n"
     ]
    },
    {
     "name": "stderr",
     "output_type": "stream",
     "text": [
      "From https://github.com/UUDeCART/decart_bootcamp_part2\n",
      "   e77c2dd..3326a54  master     -> origin/master\n"
     ]
    }
   ],
   "source": [
    "%%bash\n",
    "cd /home/jovyan/work/decart_bootcamp_part2\n",
    "git pull"
   ]
  },
  {
   "cell_type": "code",
   "execution_count": null,
   "metadata": {
    "collapsed": true
   },
   "outputs": [],
   "source": [
    "from IPython.display import YouTubeVideo\n",
    "from datetime import timedelta\n",
    "from IPython.display import display\n"
   ]
  },
  {
   "cell_type": "markdown",
   "metadata": {},
   "source": [
    "### In-class Activities\n",
    "\n",
    "* [Introducing computers and programming](./introducing_programming.ipynb)\n",
    "* [Introducing Python](./why_python.ipynb)  \n",
    "* [Python Crash Course](./python_crash_course.ipynb)\n",
    "* [Numbers in Python](./PythonBasicNumericTypes.ipynb)"
   ]
  },
  {
   "cell_type": "markdown",
   "metadata": {},
   "source": [
    "### Post Class Activities"
   ]
  },
  {
   "cell_type": "code",
   "execution_count": null,
   "metadata": {
    "collapsed": true
   },
   "outputs": [],
   "source": [
    "\n",
    "YouTubeVideo(\"MO4xIES6Lgs\")"
   ]
  },
  {
   "cell_type": "code",
   "execution_count": null,
   "metadata": {
    "collapsed": true
   },
   "outputs": [],
   "source": [
    "YouTubeVideo(\"GieEvhO4fKA\")"
   ]
  },
  {
   "cell_type": "markdown",
   "metadata": {},
   "source": [
    "<a rel=\"license\" href=\"http://creativecommons.org/licenses/by-nc-sa/4.0/\"><img alt=\"Creative Commons License\" style=\"border-width:0\" src=\"https://i.creativecommons.org/l/by-nc-sa/4.0/88x31.png\" /></a><br /><span xmlns:dct=\"http://purl.org/dc/terms/\" property=\"dct:title\">DeCART</span> by <span xmlns:cc=\"http://creativecommons.org/ns#\" property=\"cc:attributionName\">Brian E. Chapman</span> is licensed under a <a rel=\"license\" href=\"http://creativecommons.org/licenses/by-nc-sa/4.0/\">Creative Commons Attribution-NonCommercial-ShareAlike 4.0 International License</a>."
   ]
  },
  {
   "cell_type": "code",
   "execution_count": null,
   "metadata": {
    "collapsed": true
   },
   "outputs": [],
   "source": []
  }
 ],
 "metadata": {
  "kernelspec": {
   "display_name": "Python 3",
   "language": "python",
   "name": "python3"
  },
  "language_info": {
   "codemirror_mode": {
    "name": "ipython",
    "version": 3
   },
   "file_extension": ".py",
   "mimetype": "text/x-python",
   "name": "python",
   "nbconvert_exporter": "python",
   "pygments_lexer": "ipython3",
   "version": "3.5.2"
  }
 },
 "nbformat": 4,
 "nbformat_minor": 1
}
