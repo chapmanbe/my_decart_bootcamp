{
 "cells": [
  {
   "cell_type": "markdown",
   "metadata": {},
   "source": [
    "## Visualizing Spatial Data with Pandas and Bokeh"
   ]
  },
  {
   "cell_type": "markdown",
   "metadata": {},
   "source": [
    "[bokeh](http://bokeh.pydata.org/en/latest/) is a relatively new JavaScript visualization language for Python that is modeled after D3 but is intended to be able to handle millions of data points.\n",
    "\n",
    ">Bokeh is a Python interactive visualization library that targets modern web browsers for presentation. Its goal is to provide elegant, concise construction of novel graphics in the style of D3.js, and to extend this capability with high-performance interactivity over very large or streaming datasets. Bokeh can help anyone who would like to quickly and easily create interactive plots, dashboards, and data applications. ([Bokeh Website](http://bokeh.pydata.org/en/latest/))\n",
    "\n",
    "The advantage of Bokeh over matplotlib is that the visualizations can be interactive (via the JavaScript).\n",
    "\n",
    "From the U.K. accident data, we can plot the location of accidents for which latitude and longitude values are provided."
   ]
  },
  {
   "cell_type": "code",
   "execution_count": 1,
   "metadata": {},
   "outputs": [
    {
     "name": "stdout",
     "output_type": "stream",
     "text": [
      "True\n"
     ]
    }
   ],
   "source": [
    "import os\n",
    "import sqlite3 as sqlite\n",
    "DATADIR = os.path.join(os.path.expanduser(\"~\"),\"DATA\",\n",
    "                       \"Misc\")\n",
    "print(os.path.exists(DATADIR))\n",
    "import pandas as pd\n",
    "import numpy as np"
   ]
  },
  {
   "cell_type": "code",
   "execution_count": 2,
   "metadata": {
    "collapsed": true
   },
   "outputs": [],
   "source": [
    "from bokeh.io import output_notebook"
   ]
  },
  {
   "cell_type": "markdown",
   "metadata": {},
   "source": [
    "### This enables drawing directly in the notebook"
   ]
  },
  {
   "cell_type": "code",
   "execution_count": 3,
   "metadata": {},
   "outputs": [
    {
     "data": {
      "text/html": [
       "\n",
       "    <div class=\"bk-root\">\n",
       "        <a href=\"http://bokeh.pydata.org\" target=\"_blank\" class=\"bk-logo bk-logo-small bk-logo-notebook\"></a>\n",
       "        <span id=\"dc9dc2b5-efe4-49ec-ae0e-0a7d16af8eaf\">Loading BokehJS ...</span>\n",
       "    </div>"
      ]
     },
     "metadata": {},
     "output_type": "display_data"
    },
    {
     "data": {
      "application/javascript": [
       "\n",
       "(function(global) {\n",
       "  function now() {\n",
       "    return new Date();\n",
       "  }\n",
       "\n",
       "  var force = true;\n",
       "\n",
       "  if (typeof (window._bokeh_onload_callbacks) === \"undefined\" || force === true) {\n",
       "    window._bokeh_onload_callbacks = [];\n",
       "    window._bokeh_is_loading = undefined;\n",
       "  }\n",
       "\n",
       "\n",
       "  \n",
       "  if (typeof (window._bokeh_timeout) === \"undefined\" || force === true) {\n",
       "    window._bokeh_timeout = Date.now() + 5000;\n",
       "    window._bokeh_failed_load = false;\n",
       "  }\n",
       "\n",
       "  var NB_LOAD_WARNING = {'data': {'text/html':\n",
       "     \"<div style='background-color: #fdd'>\\n\"+\n",
       "     \"<p>\\n\"+\n",
       "     \"BokehJS does not appear to have successfully loaded. If loading BokehJS from CDN, this \\n\"+\n",
       "     \"may be due to a slow or bad network connection. Possible fixes:\\n\"+\n",
       "     \"</p>\\n\"+\n",
       "     \"<ul>\\n\"+\n",
       "     \"<li>re-rerun `output_notebook()` to attempt to load from CDN again, or</li>\\n\"+\n",
       "     \"<li>use INLINE resources instead, as so:</li>\\n\"+\n",
       "     \"</ul>\\n\"+\n",
       "     \"<code>\\n\"+\n",
       "     \"from bokeh.resources import INLINE\\n\"+\n",
       "     \"output_notebook(resources=INLINE)\\n\"+\n",
       "     \"</code>\\n\"+\n",
       "     \"</div>\"}};\n",
       "\n",
       "  function display_loaded() {\n",
       "    if (window.Bokeh !== undefined) {\n",
       "      var el = document.getElementById(\"dc9dc2b5-efe4-49ec-ae0e-0a7d16af8eaf\");\n",
       "      el.textContent = \"BokehJS \" + Bokeh.version + \" successfully loaded.\";\n",
       "    } else if (Date.now() < window._bokeh_timeout) {\n",
       "      setTimeout(display_loaded, 100)\n",
       "    }\n",
       "  }\n",
       "\n",
       "  function run_callbacks() {\n",
       "    window._bokeh_onload_callbacks.forEach(function(callback) { callback() });\n",
       "    delete window._bokeh_onload_callbacks\n",
       "    console.info(\"Bokeh: all callbacks have finished\");\n",
       "  }\n",
       "\n",
       "  function load_libs(js_urls, callback) {\n",
       "    window._bokeh_onload_callbacks.push(callback);\n",
       "    if (window._bokeh_is_loading > 0) {\n",
       "      console.log(\"Bokeh: BokehJS is being loaded, scheduling callback at\", now());\n",
       "      return null;\n",
       "    }\n",
       "    if (js_urls == null || js_urls.length === 0) {\n",
       "      run_callbacks();\n",
       "      return null;\n",
       "    }\n",
       "    console.log(\"Bokeh: BokehJS not loaded, scheduling load and callback at\", now());\n",
       "    window._bokeh_is_loading = js_urls.length;\n",
       "    for (var i = 0; i < js_urls.length; i++) {\n",
       "      var url = js_urls[i];\n",
       "      var s = document.createElement('script');\n",
       "      s.src = url;\n",
       "      s.async = false;\n",
       "      s.onreadystatechange = s.onload = function() {\n",
       "        window._bokeh_is_loading--;\n",
       "        if (window._bokeh_is_loading === 0) {\n",
       "          console.log(\"Bokeh: all BokehJS libraries loaded\");\n",
       "          run_callbacks()\n",
       "        }\n",
       "      };\n",
       "      s.onerror = function() {\n",
       "        console.warn(\"failed to load library \" + url);\n",
       "      };\n",
       "      console.log(\"Bokeh: injecting script tag for BokehJS library: \", url);\n",
       "      document.getElementsByTagName(\"head\")[0].appendChild(s);\n",
       "    }\n",
       "  };var element = document.getElementById(\"dc9dc2b5-efe4-49ec-ae0e-0a7d16af8eaf\");\n",
       "  if (element == null) {\n",
       "    console.log(\"Bokeh: ERROR: autoload.js configured with elementid 'dc9dc2b5-efe4-49ec-ae0e-0a7d16af8eaf' but no matching script tag was found. \")\n",
       "    return false;\n",
       "  }\n",
       "\n",
       "  var js_urls = [\"https://cdn.pydata.org/bokeh/release/bokeh-0.12.5.min.js\", \"https://cdn.pydata.org/bokeh/release/bokeh-widgets-0.12.5.min.js\"];\n",
       "\n",
       "  var inline_js = [\n",
       "    function(Bokeh) {\n",
       "      Bokeh.set_log_level(\"info\");\n",
       "    },\n",
       "    \n",
       "    function(Bokeh) {\n",
       "      \n",
       "    },\n",
       "    \n",
       "    function(Bokeh) {\n",
       "      \n",
       "      document.getElementById(\"dc9dc2b5-efe4-49ec-ae0e-0a7d16af8eaf\").textContent = \"BokehJS is loading...\";\n",
       "    },\n",
       "    function(Bokeh) {\n",
       "      console.log(\"Bokeh: injecting CSS: https://cdn.pydata.org/bokeh/release/bokeh-0.12.5.min.css\");\n",
       "      Bokeh.embed.inject_css(\"https://cdn.pydata.org/bokeh/release/bokeh-0.12.5.min.css\");\n",
       "      console.log(\"Bokeh: injecting CSS: https://cdn.pydata.org/bokeh/release/bokeh-widgets-0.12.5.min.css\");\n",
       "      Bokeh.embed.inject_css(\"https://cdn.pydata.org/bokeh/release/bokeh-widgets-0.12.5.min.css\");\n",
       "    }\n",
       "  ];\n",
       "\n",
       "  function run_inline_js() {\n",
       "    \n",
       "    if ((window.Bokeh !== undefined) || (force === true)) {\n",
       "      for (var i = 0; i < inline_js.length; i++) {\n",
       "        inline_js[i](window.Bokeh);\n",
       "      }if (force === true) {\n",
       "        display_loaded();\n",
       "      }} else if (Date.now() < window._bokeh_timeout) {\n",
       "      setTimeout(run_inline_js, 100);\n",
       "    } else if (!window._bokeh_failed_load) {\n",
       "      console.log(\"Bokeh: BokehJS failed to load within specified timeout.\");\n",
       "      window._bokeh_failed_load = true;\n",
       "    } else if (force !== true) {\n",
       "      var cell = $(document.getElementById(\"dc9dc2b5-efe4-49ec-ae0e-0a7d16af8eaf\")).parents('.cell').data().cell;\n",
       "      cell.output_area.append_execute_result(NB_LOAD_WARNING)\n",
       "    }\n",
       "\n",
       "  }\n",
       "\n",
       "  if (window._bokeh_is_loading === 0) {\n",
       "    console.log(\"Bokeh: BokehJS loaded, going straight to plotting\");\n",
       "    run_inline_js();\n",
       "  } else {\n",
       "    load_libs(js_urls, function() {\n",
       "      console.log(\"Bokeh: BokehJS plotting callback run at\", now());\n",
       "      run_inline_js();\n",
       "    });\n",
       "  }\n",
       "}(this));"
      ]
     },
     "metadata": {},
     "output_type": "display_data"
    }
   ],
   "source": [
    "output_notebook()"
   ]
  },
  {
   "cell_type": "markdown",
   "metadata": {},
   "source": [
    "### Read in the data"
   ]
  },
  {
   "cell_type": "code",
   "execution_count": 4,
   "metadata": {},
   "outputs": [
    {
     "data": {
      "text/html": [
       "<div>\n",
       "<table border=\"1\" class=\"dataframe\">\n",
       "  <thead>\n",
       "    <tr style=\"text-align: right;\">\n",
       "      <th></th>\n",
       "      <th>Longitude</th>\n",
       "      <th>Latitude</th>\n",
       "      <th>Date</th>\n",
       "    </tr>\n",
       "  </thead>\n",
       "  <tbody>\n",
       "    <tr>\n",
       "      <th>4883216</th>\n",
       "      <td>-0.271752</td>\n",
       "      <td>51.715661</td>\n",
       "      <td>25/12/1999</td>\n",
       "    </tr>\n",
       "    <tr>\n",
       "      <th>4883217</th>\n",
       "      <td>-0.239977</td>\n",
       "      <td>51.695136</td>\n",
       "      <td>17/12/1999</td>\n",
       "    </tr>\n",
       "    <tr>\n",
       "      <th>4883218</th>\n",
       "      <td>-0.270037</td>\n",
       "      <td>51.715096</td>\n",
       "      <td>15/12/1999</td>\n",
       "    </tr>\n",
       "    <tr>\n",
       "      <th>4883219</th>\n",
       "      <td>-0.263233</td>\n",
       "      <td>51.711309</td>\n",
       "      <td>02/12/1999</td>\n",
       "    </tr>\n",
       "    <tr>\n",
       "      <th>4883220</th>\n",
       "      <td>-0.227225</td>\n",
       "      <td>51.688200</td>\n",
       "      <td>04/12/1999</td>\n",
       "    </tr>\n",
       "  </tbody>\n",
       "</table>\n",
       "</div>"
      ],
      "text/plain": [
       "         Longitude   Latitude        Date\n",
       "4883216  -0.271752  51.715661  25/12/1999\n",
       "4883217  -0.239977  51.695136  17/12/1999\n",
       "4883218  -0.270037  51.715096  15/12/1999\n",
       "4883219  -0.263233  51.711309  02/12/1999\n",
       "4883220  -0.227225  51.688200  04/12/1999"
      ]
     },
     "execution_count": 4,
     "metadata": {},
     "output_type": "execute_result"
    }
   ],
   "source": [
    "data = pd.read_csv(os.path.join(DATADIR,\n",
    "                         \"Accidents7904.csv\"),\n",
    "                   usecols = ['Longitude',\"Latitude\",\"Date\"]).dropna()\n",
    "data.head()"
   ]
  },
  {
   "cell_type": "code",
   "execution_count": 5,
   "metadata": {},
   "outputs": [
    {
     "data": {
      "text/plain": [
       "Longitude    float64\n",
       "Latitude     float64\n",
       "Date          object\n",
       "dtype: object"
      ]
     },
     "execution_count": 5,
     "metadata": {},
     "output_type": "execute_result"
    }
   ],
   "source": [
    "data.dtypes"
   ]
  },
  {
   "cell_type": "markdown",
   "metadata": {},
   "source": [
    "####  We can use the [``sample``](http://pandas.pydata.org/pandas-docs/stable/generated/pandas.DataFrame.sample.html) method to get a subset of DataFrame"
   ]
  },
  {
   "cell_type": "code",
   "execution_count": 10,
   "metadata": {
    "collapsed": true
   },
   "outputs": [],
   "source": [
    "subdata = data.sample(200)\n",
    "mean_long = np.mean(subdata['Longitude'])\n",
    "mean_lat  = np.mean(subdata['Latitude'])\n"
   ]
  },
  {
   "cell_type": "code",
   "execution_count": 12,
   "metadata": {
    "scrolled": true
   },
   "outputs": [
    {
     "data": {
      "text/html": [
       "\n",
       "\n",
       "    <div class=\"bk-root\">\n",
       "        <div class=\"bk-plotdiv\" id=\"d3ef3abd-8d5d-4699-9db3-4a101a801d98\"></div>\n",
       "    </div>\n",
       "<script type=\"text/javascript\">\n",
       "  \n",
       "  (function(global) {\n",
       "    function now() {\n",
       "      return new Date();\n",
       "    }\n",
       "  \n",
       "    var force = false;\n",
       "  \n",
       "    if (typeof (window._bokeh_onload_callbacks) === \"undefined\" || force === true) {\n",
       "      window._bokeh_onload_callbacks = [];\n",
       "      window._bokeh_is_loading = undefined;\n",
       "    }\n",
       "  \n",
       "  \n",
       "    \n",
       "    if (typeof (window._bokeh_timeout) === \"undefined\" || force === true) {\n",
       "      window._bokeh_timeout = Date.now() + 0;\n",
       "      window._bokeh_failed_load = false;\n",
       "    }\n",
       "  \n",
       "    var NB_LOAD_WARNING = {'data': {'text/html':\n",
       "       \"<div style='background-color: #fdd'>\\n\"+\n",
       "       \"<p>\\n\"+\n",
       "       \"BokehJS does not appear to have successfully loaded. If loading BokehJS from CDN, this \\n\"+\n",
       "       \"may be due to a slow or bad network connection. Possible fixes:\\n\"+\n",
       "       \"</p>\\n\"+\n",
       "       \"<ul>\\n\"+\n",
       "       \"<li>re-rerun `output_notebook()` to attempt to load from CDN again, or</li>\\n\"+\n",
       "       \"<li>use INLINE resources instead, as so:</li>\\n\"+\n",
       "       \"</ul>\\n\"+\n",
       "       \"<code>\\n\"+\n",
       "       \"from bokeh.resources import INLINE\\n\"+\n",
       "       \"output_notebook(resources=INLINE)\\n\"+\n",
       "       \"</code>\\n\"+\n",
       "       \"</div>\"}};\n",
       "  \n",
       "    function display_loaded() {\n",
       "      if (window.Bokeh !== undefined) {\n",
       "        var el = document.getElementById(\"d3ef3abd-8d5d-4699-9db3-4a101a801d98\");\n",
       "        el.textContent = \"BokehJS \" + Bokeh.version + \" successfully loaded.\";\n",
       "      } else if (Date.now() < window._bokeh_timeout) {\n",
       "        setTimeout(display_loaded, 100)\n",
       "      }\n",
       "    }\n",
       "  \n",
       "    function run_callbacks() {\n",
       "      window._bokeh_onload_callbacks.forEach(function(callback) { callback() });\n",
       "      delete window._bokeh_onload_callbacks\n",
       "      console.info(\"Bokeh: all callbacks have finished\");\n",
       "    }\n",
       "  \n",
       "    function load_libs(js_urls, callback) {\n",
       "      window._bokeh_onload_callbacks.push(callback);\n",
       "      if (window._bokeh_is_loading > 0) {\n",
       "        console.log(\"Bokeh: BokehJS is being loaded, scheduling callback at\", now());\n",
       "        return null;\n",
       "      }\n",
       "      if (js_urls == null || js_urls.length === 0) {\n",
       "        run_callbacks();\n",
       "        return null;\n",
       "      }\n",
       "      console.log(\"Bokeh: BokehJS not loaded, scheduling load and callback at\", now());\n",
       "      window._bokeh_is_loading = js_urls.length;\n",
       "      for (var i = 0; i < js_urls.length; i++) {\n",
       "        var url = js_urls[i];\n",
       "        var s = document.createElement('script');\n",
       "        s.src = url;\n",
       "        s.async = false;\n",
       "        s.onreadystatechange = s.onload = function() {\n",
       "          window._bokeh_is_loading--;\n",
       "          if (window._bokeh_is_loading === 0) {\n",
       "            console.log(\"Bokeh: all BokehJS libraries loaded\");\n",
       "            run_callbacks()\n",
       "          }\n",
       "        };\n",
       "        s.onerror = function() {\n",
       "          console.warn(\"failed to load library \" + url);\n",
       "        };\n",
       "        console.log(\"Bokeh: injecting script tag for BokehJS library: \", url);\n",
       "        document.getElementsByTagName(\"head\")[0].appendChild(s);\n",
       "      }\n",
       "    };var element = document.getElementById(\"d3ef3abd-8d5d-4699-9db3-4a101a801d98\");\n",
       "    if (element == null) {\n",
       "      console.log(\"Bokeh: ERROR: autoload.js configured with elementid 'd3ef3abd-8d5d-4699-9db3-4a101a801d98' but no matching script tag was found. \")\n",
       "      return false;\n",
       "    }\n",
       "  \n",
       "    var js_urls = [];\n",
       "  \n",
       "    var inline_js = [\n",
       "      function(Bokeh) {\n",
       "        (function() {\n",
       "          var fn = function() {\n",
       "            var docs_json = {\"5c5717f7-9191-4e63-aff1-6635e9923a0d\":{\"roots\":{\"references\":[{\"attributes\":{\"data_source\":{\"id\":\"11394dcf-b244-4a7e-975c-1c33392a2fae\",\"type\":\"ColumnDataSource\"},\"glyph\":{\"id\":\"d3693b43-4b6a-4e8e-8670-a5dfbea97e6f\",\"type\":\"Circle\"},\"hover_glyph\":null,\"muted_glyph\":null},\"id\":\"1462fb4f-7135-4d2b-acd1-855eef1a7760\",\"type\":\"GlyphRenderer\"},{\"attributes\":{\"callback\":null,\"plot\":{\"id\":\"6459d4d5-0652-4f2b-9db0-c7cd68841d8b\",\"type\":\"GMapPlot\"}},\"id\":\"130961de-87b1-4b16-8c47-d31bc25d5e28\",\"type\":\"HoverTool\"},{\"attributes\":{\"lat\":52.60828009499999,\"lng\":-1.3951273,\"zoom\":6},\"id\":\"ab9ee489-5bc3-4529-9062-39d1db424809\",\"type\":\"GMapOptions\"},{\"attributes\":{\"bottom_units\":\"screen\",\"fill_alpha\":{\"value\":0.5},\"fill_color\":{\"value\":\"lightgrey\"},\"left_units\":\"screen\",\"level\":\"overlay\",\"line_alpha\":{\"value\":1.0},\"line_color\":{\"value\":\"black\"},\"line_dash\":[4,4],\"line_width\":{\"value\":2},\"plot\":null,\"render_mode\":\"css\",\"right_units\":\"screen\",\"top_units\":\"screen\"},\"id\":\"3ec5dd7c-f723-49e6-a4f0-abc0567f3606\",\"type\":\"BoxAnnotation\"},{\"attributes\":{\"fill_alpha\":{\"value\":0.8},\"fill_color\":{\"value\":\"blue\"},\"line_color\":{\"value\":null},\"size\":{\"units\":\"screen\",\"value\":2},\"x\":{\"field\":\"lon\"},\"y\":{\"field\":\"lat\"}},\"id\":\"d3693b43-4b6a-4e8e-8670-a5dfbea97e6f\",\"type\":\"Circle\"},{\"attributes\":{\"map_options\":{\"id\":\"ab9ee489-5bc3-4529-9062-39d1db424809\",\"type\":\"GMapOptions\"},\"renderers\":[{\"id\":\"1462fb4f-7135-4d2b-acd1-855eef1a7760\",\"type\":\"GlyphRenderer\"},{\"id\":\"3ec5dd7c-f723-49e6-a4f0-abc0567f3606\",\"type\":\"BoxAnnotation\"}],\"title\":{\"id\":\"87e6253f-b7a5-4bc9-b1bc-06fe6ef98cec\",\"type\":\"Title\"},\"tool_events\":{\"id\":\"94489f16-6ac3-4207-8cd3-a634b3e2c249\",\"type\":\"ToolEvents\"},\"toolbar\":{\"id\":\"0a32f5c5-56a4-4739-9a85-decd130732dc\",\"type\":\"Toolbar\"},\"x_range\":{\"id\":\"7ce1fc51-3b8e-4816-b020-2c53b6cbbf30\",\"type\":\"DataRange1d\"},\"y_range\":{\"id\":\"0ef1fddc-a472-4a12-ad2c-3786804a0955\",\"type\":\"DataRange1d\"}},\"id\":\"6459d4d5-0652-4f2b-9db0-c7cd68841d8b\",\"type\":\"GMapPlot\"},{\"attributes\":{\"callback\":null},\"id\":\"0ef1fddc-a472-4a12-ad2c-3786804a0955\",\"type\":\"DataRange1d\"},{\"attributes\":{\"plot\":{\"id\":\"6459d4d5-0652-4f2b-9db0-c7cd68841d8b\",\"type\":\"GMapPlot\"}},\"id\":\"deb32ddd-e235-449e-a825-8a4659f6583f\",\"type\":\"WheelZoomTool\"},{\"attributes\":{\"callback\":null,\"column_names\":[\"lat\",\"lon\"],\"data\":{\"lat\":{\"__ndarray__\":\"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\",\"dtype\":\"float64\",\"shape\":[200]},\"lon\":{\"__ndarray__\":\"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\",\"dtype\":\"float64\",\"shape\":[200]}}},\"id\":\"11394dcf-b244-4a7e-975c-1c33392a2fae\",\"type\":\"ColumnDataSource\"},{\"attributes\":{\"callback\":null},\"id\":\"7ce1fc51-3b8e-4816-b020-2c53b6cbbf30\",\"type\":\"DataRange1d\"},{\"attributes\":{\"plot\":null,\"text\":\"U.K. Road Accidents\"},\"id\":\"87e6253f-b7a5-4bc9-b1bc-06fe6ef98cec\",\"type\":\"Title\"},{\"attributes\":{},\"id\":\"94489f16-6ac3-4207-8cd3-a634b3e2c249\",\"type\":\"ToolEvents\"},{\"attributes\":{\"active_drag\":\"auto\",\"active_scroll\":\"auto\",\"active_tap\":\"auto\",\"tools\":[{\"id\":\"02f8635b-523e-4656-80f3-882f1cab6b42\",\"type\":\"PanTool\"},{\"id\":\"deb32ddd-e235-449e-a825-8a4659f6583f\",\"type\":\"WheelZoomTool\"},{\"id\":\"f0c6334f-6636-46c4-8d94-4bad36c43463\",\"type\":\"BoxSelectTool\"},{\"id\":\"130961de-87b1-4b16-8c47-d31bc25d5e28\",\"type\":\"HoverTool\"}]},\"id\":\"0a32f5c5-56a4-4739-9a85-decd130732dc\",\"type\":\"Toolbar\"},{\"attributes\":{\"callback\":null,\"overlay\":{\"id\":\"3ec5dd7c-f723-49e6-a4f0-abc0567f3606\",\"type\":\"BoxAnnotation\"},\"plot\":{\"id\":\"6459d4d5-0652-4f2b-9db0-c7cd68841d8b\",\"type\":\"GMapPlot\"}},\"id\":\"f0c6334f-6636-46c4-8d94-4bad36c43463\",\"type\":\"BoxSelectTool\"},{\"attributes\":{\"plot\":{\"id\":\"6459d4d5-0652-4f2b-9db0-c7cd68841d8b\",\"type\":\"GMapPlot\"}},\"id\":\"02f8635b-523e-4656-80f3-882f1cab6b42\",\"type\":\"PanTool\"}],\"root_ids\":[\"6459d4d5-0652-4f2b-9db0-c7cd68841d8b\"]},\"title\":\"Bokeh Application\",\"version\":\"0.12.5\"}};\n",
       "            var render_items = [{\"docid\":\"5c5717f7-9191-4e63-aff1-6635e9923a0d\",\"elementid\":\"d3ef3abd-8d5d-4699-9db3-4a101a801d98\",\"modelid\":\"6459d4d5-0652-4f2b-9db0-c7cd68841d8b\"}];\n",
       "            \n",
       "            Bokeh.embed.embed_items(docs_json, render_items);\n",
       "          };\n",
       "          if (document.readyState != \"loading\") fn();\n",
       "          else document.addEventListener(\"DOMContentLoaded\", fn);\n",
       "        })();\n",
       "      },\n",
       "      function(Bokeh) {\n",
       "      }\n",
       "    ];\n",
       "  \n",
       "    function run_inline_js() {\n",
       "      \n",
       "      if ((window.Bokeh !== undefined) || (force === true)) {\n",
       "        for (var i = 0; i < inline_js.length; i++) {\n",
       "          inline_js[i](window.Bokeh);\n",
       "        }if (force === true) {\n",
       "          display_loaded();\n",
       "        }} else if (Date.now() < window._bokeh_timeout) {\n",
       "        setTimeout(run_inline_js, 100);\n",
       "      } else if (!window._bokeh_failed_load) {\n",
       "        console.log(\"Bokeh: BokehJS failed to load within specified timeout.\");\n",
       "        window._bokeh_failed_load = true;\n",
       "      } else if (force !== true) {\n",
       "        var cell = $(document.getElementById(\"d3ef3abd-8d5d-4699-9db3-4a101a801d98\")).parents('.cell').data().cell;\n",
       "        cell.output_area.append_execute_result(NB_LOAD_WARNING)\n",
       "      }\n",
       "  \n",
       "    }\n",
       "  \n",
       "    if (window._bokeh_is_loading === 0) {\n",
       "      console.log(\"Bokeh: BokehJS loaded, going straight to plotting\");\n",
       "      run_inline_js();\n",
       "    } else {\n",
       "      load_libs(js_urls, function() {\n",
       "        console.log(\"Bokeh: BokehJS plotting callback run at\", now());\n",
       "        run_inline_js();\n",
       "      });\n",
       "    }\n",
       "  }(this));\n",
       "</script>"
      ]
     },
     "metadata": {},
     "output_type": "display_data"
    }
   ],
   "source": [
    "from bokeh.io import output_file, show\n",
    "from bokeh.models import (\n",
    "  GMapPlot, GMapOptions, ColumnDataSource, Circle, DataRange1d, \n",
    "    PanTool, WheelZoomTool, BoxSelectTool, HoverTool\n",
    ")\n",
    "\n",
    "hover = HoverTool()\n",
    "map_options = GMapOptions(lat=mean_lat, \n",
    "                          lng=mean_long, \n",
    "                          map_type=\"roadmap\", zoom=6)\n",
    "\n",
    "plot = GMapPlot(\n",
    "    x_range=DataRange1d(), \n",
    "    y_range=DataRange1d(), \n",
    "    map_options=map_options\n",
    ")\n",
    "plot.title.text = \"U.K. Road Accidents\"\n",
    "\n",
    "source = ColumnDataSource(\n",
    "    data=dict(\n",
    "        lat=subdata['Latitude'],\n",
    "        lon=subdata['Longitude'],\n",
    "    )\n",
    ")\n",
    "\n",
    "\n",
    "hover.tooltips.append(('Date','$Date'))\n",
    "circle = Circle(x=\"lon\", y=\"lat\", size=2, \n",
    "                fill_color=\"blue\", fill_alpha=0.8, \n",
    "                line_color=None)\n",
    "plot.add_glyph(source, circle)\n",
    "\n",
    "plot.add_tools(PanTool(),WheelZoomTool(), BoxSelectTool(), hover)\n",
    "show(plot)"
   ]
  },
  {
   "cell_type": "code",
   "execution_count": null,
   "metadata": {
    "collapsed": true
   },
   "outputs": [],
   "source": []
  }
 ],
 "metadata": {
  "kernelspec": {
   "display_name": "Python 3",
   "language": "python",
   "name": "python3"
  },
  "language_info": {
   "codemirror_mode": {
    "name": "ipython",
    "version": 3
   },
   "file_extension": ".py",
   "mimetype": "text/x-python",
   "name": "python",
   "nbconvert_exporter": "python",
   "pygments_lexer": "ipython3",
   "version": "3.5.2"
  }
 },
 "nbformat": 4,
 "nbformat_minor": 1
}
